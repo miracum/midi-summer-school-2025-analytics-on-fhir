{
 "cells": [
  {
   "cell_type": "code",
   "execution_count": null,
   "id": "fb927bf5",
   "metadata": {},
   "outputs": [],
   "source": [
    "import pandas as pd\n",
    "from deltalake import DeltaTable\n",
    "from dotenv import load_dotenv\n",
    "\n",
    "load_dotenv(\".demo.env\")\n",
    "\n",
    "storage_options = {\n",
    "    \"AWS_ENDPOINT_URL\": \"http://localhost:9000\",\n",
    "}\n",
    "\n",
    "conditions = DeltaTable(\n",
    "    \"s3://fhir/default/Condition.parquet\", storage_options=storage_options\n",
    ").to_pandas()\n",
    "\n",
    "pd.set_option(\"display.max_colwidth\", None)"
   ]
  },
  {
   "cell_type": "code",
   "execution_count": null,
   "id": "995fc674",
   "metadata": {},
   "outputs": [],
   "source": [
    "conditions"
   ]
  },
  {
   "cell_type": "code",
   "execution_count": null,
   "id": "c1e43aee",
   "metadata": {},
   "outputs": [],
   "source": [
    "# Zunächst nur die interessanten Spalten extrahieren\n",
    "conditions_simple = conditions.loc[:, [\"id\", \"subject\", \"code\"]]\n",
    "conditions_simple"
   ]
  },
  {
   "cell_type": "code",
   "execution_count": null,
   "id": "ef7be974",
   "metadata": {},
   "outputs": [],
   "source": [
    "# Anzeige der Struktur der Spalte \"subject\": ein dict mit mehreren Attributen\n",
    "conditions_simple[\"subject\"]"
   ]
  },
  {
   "cell_type": "code",
   "execution_count": null,
   "id": "96113175",
   "metadata": {},
   "outputs": [],
   "source": [
    "# Extrahiere nur die Patient-Referenz aus dem subject dict\n",
    "conditions_simple[\"subject_reference\"] = conditions_simple[\"subject\"].apply(\n",
    "    lambda subject: subject[\"reference\"]\n",
    ")\n",
    "conditions_simple"
   ]
  },
  {
   "cell_type": "code",
   "execution_count": null,
   "id": "f5b08d5e",
   "metadata": {},
   "outputs": [],
   "source": [
    "# extrahiere das \"coding\" Attribut aus dem code dict\n",
    "conditions_simple[\"code_coding\"] = conditions_simple[\"code\"].apply(\n",
    "    lambda code: code[\"coding\"]\n",
    ")\n",
    "\n",
    "# explode erzeugt für jedes Element in der Liste eine neue Zeile im dataframe\n",
    "conditions_exploded = conditions_simple.explode(\"code_coding\")\n",
    "\n",
    "# erzeuge neue Spalten für die einzelnen Attribute des coding dicts\n",
    "\n",
    "# zunächst für code.coding.system\n",
    "conditions_exploded[\"code_coding_system\"] = conditions_exploded[\"code_coding\"].apply(\n",
    "    lambda coding: coding[\"system\"]\n",
    ")\n",
    "\n",
    "conditions_exploded[\"code_coding_code\"] = conditions_exploded[\"code_coding\"].apply(\n",
    "    lambda coding: coding[\"code\"]\n",
    ")\n",
    "\n",
    "conditions_exploded[\"code_coding_display\"] = conditions_exploded[\"code_coding\"].apply(\n",
    "    lambda coding: coding[\"display\"]\n",
    ")\n",
    "\n",
    "conditions_exploded"
   ]
  },
  {
   "cell_type": "code",
   "execution_count": null,
   "id": "a5fab640",
   "metadata": {},
   "outputs": [],
   "source": [
    "conditions_snomed = conditions_exploded[\n",
    "    conditions_exploded[\"code_coding_system\"] == \"http://snomed.info/sct\"\n",
    "]"
   ]
  },
  {
   "cell_type": "code",
   "execution_count": null,
   "id": "8e5b5f3c",
   "metadata": {},
   "outputs": [],
   "source": [
    "import matplotlib.pyplot as plt\n",
    "\n",
    "code_counts = (\n",
    "    conditions_snomed.groupby(\"code_coding_display\")[\"subject_reference\"]\n",
    "    .nunique()\n",
    "    .reset_index()\n",
    "    .rename(columns={\"subject_reference\": \"patient_count\"})\n",
    "    .sort_values(by=\"patient_count\", ascending=False)\n",
    "    .head(25)\n",
    ")\n",
    "\n",
    "plt.figure(figsize=(12, 6))\n",
    "plt.bar(code_counts[\"code_coding_display\"], code_counts[\"patient_count\"])\n",
    "plt.xlabel(\"Diagnose\")\n",
    "plt.ylabel(\"Anzahl Patienten\")\n",
    "plt.title(\"Histogramm: Anzahl Patienten pro Diagnose-Code\")\n",
    "plt.xticks(rotation=75)\n",
    "plt.tight_layout()\n",
    "plt.show()"
   ]
  },
  {
   "cell_type": "markdown",
   "id": "48dfb2be",
   "metadata": {},
   "source": [
    "# Übung\n",
    "\n",
    "Nun stratifiziere die Verteilung noch nach dem Geschlecht des Patienten.\n",
    "Dazu müssen die Patient-Ressourcen an die Condition gejoined werden: <https://pandas.pydata.org/docs/user_guide/merging.html>\n"
   ]
  },
  {
   "cell_type": "code",
   "execution_count": null,
   "id": "584fb244",
   "metadata": {},
   "outputs": [],
   "source": [
    "patients = DeltaTable(\n",
    "    \"s3://fhir/default/Patient.parquet/\", storage_options=storage_options\n",
    ").to_pandas()"
   ]
  },
  {
   "cell_type": "code",
   "execution_count": null,
   "id": "f730c8be",
   "metadata": {},
   "outputs": [],
   "source": [
    "# Conditions[\"subject_reference\"] enthält die Referenz auf den Patienten im Format \"Patient/123\".\n",
    "# Das bauen wir hier nach.\n",
    "patients[\"id_as_reference\"] = \"Patient/\" + patients[\"id\"].astype(str)"
   ]
  },
  {
   "cell_type": "code",
   "execution_count": null,
   "id": "cae4a16c",
   "metadata": {},
   "outputs": [],
   "source": [
    "pd.set_option(\"display.max_colwidth\", 128)\n",
    "patients"
   ]
  },
  {
   "cell_type": "code",
   "execution_count": null,
   "id": "0dc1ed5e",
   "metadata": {},
   "outputs": [],
   "source": [
    "# TODO: merge die beiden DataFrames conditions_snomed und patients\n",
    "# merged = patients.merge( ... )\n",
    "# merged"
   ]
  },
  {
   "cell_type": "code",
   "execution_count": null,
   "id": "128df212",
   "metadata": {},
   "outputs": [],
   "source": [
    "# TODO: plotte die Anzahl der Patienten pro Diagnose, stratifiziert nach Geschlecht"
   ]
  }
 ],
 "metadata": {
  "kernelspec": {
   "display_name": ".venv",
   "language": "python",
   "name": "python3"
  },
  "language_info": {
   "codemirror_mode": {
    "name": "ipython",
    "version": 3
   },
   "file_extension": ".py",
   "mimetype": "text/x-python",
   "name": "python",
   "nbconvert_exporter": "python",
   "pygments_lexer": "ipython3",
   "version": "3.12.3"
  }
 },
 "nbformat": 4,
 "nbformat_minor": 5
}
