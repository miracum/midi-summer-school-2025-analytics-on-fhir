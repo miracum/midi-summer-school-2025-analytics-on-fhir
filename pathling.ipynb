{
 "cells": [
  {
   "cell_type": "code",
   "execution_count": null,
   "id": "d3ea53a9",
   "metadata": {},
   "outputs": [],
   "source": [
    "from pathling import PathlingContext, Expression as exp\n",
    "from pyspark.sql import SparkSession\n",
    "import os\n",
    "import dotenv\n",
    "\n",
    "dotenv.load_dotenv(\".demo.env\")\n",
    "\n",
    "spark = (\n",
    "    SparkSession.builder.config(\n",
    "        \"spark.jars.packages\",\n",
    "        \"au.csiro.pathling:library-runtime:7.2.0,io.delta:delta-spark_2.12:3.3.2,org.apache.hadoop:hadoop-aws:3.3.4\",\n",
    "    )\n",
    "    .config(\"spark.sql.extensions\", \"io.delta.sql.DeltaSparkSessionExtension\")\n",
    "    .config(\n",
    "        \"spark.sql.catalog.spark_catalog\",\n",
    "        \"org.apache.spark.sql.delta.catalog.DeltaCatalog\",\n",
    "    )\n",
    "    .config(\"spark.hadoop.fs.s3a.endpoint\", \"http://localhost:9000\")\n",
    "    .config(\"spark.hadoop.fs.s3a.access.key\", os.getenv(\"AWS_ACCESS_KEY_ID\"))\n",
    "    .config(\"spark.hadoop.fs.s3a.secret.key\", os.getenv(\"AWS_SECRET_ACCESS_KEY\"))\n",
    "    .config(\"spark.hadoop.fs.s3a.path.style.access\", \"true\")\n",
    "    .config(\"spark.hadoop.fs.s3a.connection.ssl.enabled\", \"false\")\n",
    "    .config(\"spark.hadoop.fs.s3a.impl\", \"org.apache.hadoop.fs.s3a.S3AFileSystem\")\n",
    "    .config(\"spark.driver.memory\", \"10g\")\n",
    "    .getOrCreate()\n",
    ")\n",
    "\n",
    "pc = PathlingContext.create(\n",
    "    spark=spark,\n",
    "    enable_extensions=True,\n",
    "    enable_delta=True,\n",
    "    enable_terminology=False,\n",
    ")"
   ]
  },
  {
   "cell_type": "code",
   "execution_count": null,
   "id": "88b8ec7d",
   "metadata": {},
   "outputs": [],
   "source": [
    "data = pc.read.delta(\"s3a://fhir/default/\")"
   ]
  },
  {
   "cell_type": "code",
   "execution_count": null,
   "id": "8519b606",
   "metadata": {},
   "outputs": [],
   "source": [
    "# s. <https://pathling.csiro.au/docs/libraries/fhirpath-query#extract>\n",
    "patients = data.extract(\n",
    "    \"Patient\",  # Ressourcentyp aus dem Daten extrahiert werden sollen\n",
    "    columns=[\n",
    "        exp(\n",
    "            \"Patient.id\", \"patient_resource_id\"\n",
    "        ),  # Auswahl des Pfads \"id\" der Ressource\n",
    "        exp(\n",
    "            \"Patient.identifier.where(type.coding.where(system='http://terminology.hl7.org/CodeSystem/v2-0203' and code='MR').exists()).first().value\",\n",
    "            \"medical_record_number\",\n",
    "        ),\n",
    "        exp(\"gender\", \"gender\"),  #  (Patient als Präfix ist optional)\n",
    "        exp(\"birthDate\", \"birth_date\"),\n",
    "        exp(\"deceasedDateTime\", \"deceased_datetime\"),\n",
    "    ],\n",
    ")\n",
    "\n",
    "patients.show(truncate=False)"
   ]
  },
  {
   "cell_type": "code",
   "execution_count": null,
   "id": "b90de272",
   "metadata": {},
   "outputs": [],
   "source": [
    "# \"patients\" ist ein regulärer Spark DataFrame, alle Spark-Funktionen können darauf angewendet werden\n",
    "patients_by_gender = patients.groupBy(\"gender\").count()\n",
    "patients_by_gender.show()\n",
    "\n",
    "patients_by_birth_date = (\n",
    "    patients.groupBy(\"birth_date\").count().orderBy(\"count\", ascending=False)\n",
    ")\n",
    "patients_by_birth_date.show()"
   ]
  },
  {
   "cell_type": "code",
   "execution_count": null,
   "id": "e17b80f0",
   "metadata": {},
   "outputs": [],
   "source": [
    "import seaborn as sns\n",
    "from pyspark.sql.functions import current_date, datediff\n",
    "\n",
    "import matplotlib.pyplot as plt\n",
    "\n",
    "# Altersberechnung in Spark\n",
    "patients_age = patients_by_birth_date.withColumn(\n",
    "    \"age\",\n",
    "    (datediff(current_date(), \"birth_date\") / 365.25).cast(\"int\"),\n",
    ")\n",
    "ages_pd = patients_age.select(\"age\").toPandas()\n",
    "\n",
    "# Age distribution histogram\n",
    "plt.figure(figsize=(8, 6))\n",
    "sns.histplot(ages_pd[\"age\"].dropna(), bins=20, kde=True)\n",
    "plt.title(\"Altersverteilung der Patienten\")\n",
    "plt.xlabel(\"Alter (in Jahren)\")\n",
    "plt.ylabel(\"Anzahl\")\n",
    "plt.show()"
   ]
  },
  {
   "cell_type": "markdown",
   "id": "df95a3dd",
   "metadata": {},
   "source": [
    "## Übung 1: Verteilung der Diagnosen\n",
    "\n",
    "Es soll ein Histogram entstehen, dass die Anzahl der vorhandenen Diagnosen darstellt.\n",
    "\n",
    "Tipp: Unter <https://hl7.github.io/fhirpath.js/> kann man FHIRPath Ausdrücke ausprobieren.\n",
    "Kopiere eine Condition-Ressource aus [synthea/fhir/Condition.ndjson](synthea/fhir/Condition.ndjson) in das Fenster und versuche einen Ausdruck zu erstellen der zum Diagnose-Code (oder Text) führt.\n"
   ]
  },
  {
   "cell_type": "code",
   "execution_count": null,
   "id": "08ab4b2c",
   "metadata": {},
   "outputs": [],
   "source": [
    "conditions = data.extract(\n",
    "    \"Condition\",\n",
    "    columns=[\n",
    "        exp(\"Condition.id\", \"condition_resource_id\"),\n",
    "        exp(\n",
    "            \"Condition.subject.reference\",\n",
    "            \"subject_reference\",\n",
    "        ),\n",
    "        exp(\n",
    "            \"Condition.clinicalStatus.coding.where(system='http://terminology.hl7.org/CodeSystem/condition-clinical').first().code\",\n",
    "            \"clinical_status\",\n",
    "        ),\n",
    "        exp(\n",
    "            \"Condition.code...\",  # TODO: hier soll der SNOMED-code herauskommen\n",
    "            \"code_coding_code\",\n",
    "        ),\n",
    "        exp(\n",
    "            \"Condition.code...\",  # TODO: hier soll das dazugehöroge display-Label herauskommen\n",
    "            \"code_coding_display\",\n",
    "        ),\n",
    "    ],\n",
    "    filters=[\n",
    "        # TODO: es sollen nur Conditions mit einem clinicalStatus von \"active\" inkludiert werden\n",
    "    ],\n",
    ")\n",
    "\n",
    "conditions.show(truncate=False, n=100)"
   ]
  },
  {
   "cell_type": "markdown",
   "id": "fe19e3df",
   "metadata": {},
   "source": [
    "# Übung 2: Joinen von Patient and Condition\n",
    "\n",
    "An die Condition Ressourcen sollen nun die Patient Ressourcen gejoined werden um zB die Diagnoseverteilung nach Geschlecht zu stratifizieren.\n",
    "\n",
    "S. <https://pathling.csiro.au/docs/fhirpath/functions#resolve> und <https://documenter.getpostman.com/view/634774/UVsQs48s#96cb85ba-f28b-4592-b3ee-13b153343f27>\n"
   ]
  },
  {
   "cell_type": "code",
   "execution_count": null,
   "id": "14d806a6",
   "metadata": {},
   "outputs": [],
   "source": [
    "conditions = data.extract(\n",
    "    \"Condition\",\n",
    "    columns=[\n",
    "        exp(\"Condition.id\", \"condition_resource_id\"),\n",
    "        exp(\n",
    "            \"Condition.subject.reference\",\n",
    "            \"subject_reference\",\n",
    "        ),\n",
    "        # ... TODO\n",
    "    ],\n",
    "    filters=[],\n",
    ")\n",
    "\n",
    "conditions.show(truncate=False, n=100)"
   ]
  }
 ],
 "metadata": {
  "kernelspec": {
   "display_name": ".venv",
   "language": "python",
   "name": "python3"
  },
  "language_info": {
   "codemirror_mode": {
    "name": "ipython",
    "version": 3
   },
   "file_extension": ".py",
   "mimetype": "text/x-python",
   "name": "python",
   "nbconvert_exporter": "python",
   "pygments_lexer": "ipython3",
   "version": "3.12.3"
  }
 },
 "nbformat": 4,
 "nbformat_minor": 5
}
